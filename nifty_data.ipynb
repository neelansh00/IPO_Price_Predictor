{
 "cells": [
  {
   "cell_type": "code",
   "execution_count": 12,
   "id": "45ab51fa",
   "metadata": {},
   "outputs": [],
   "source": [
    "import yfinance as yf \n"
   ]
  },
  {
   "cell_type": "code",
   "execution_count": 17,
   "id": "74f32846",
   "metadata": {},
   "outputs": [
    {
     "name": "stderr",
     "output_type": "stream",
     "text": [
      "C:\\Users\\neela\\AppData\\Local\\Temp\\ipykernel_9784\\2840066850.py:3: FutureWarning: YF.download() has changed argument auto_adjust default to True\n",
      "  nifty_v2=yf.download(\"^NSEI\",start=start_date,end=end_date)\n",
      "[*********************100%***********************]  1 of 1 completed\n"
     ]
    }
   ],
   "source": [
    "start_date=\"2020-09-15\"\n",
    "end_date=\"2025-07-03\"\n",
    "nifty_v2=yf.download(\"^NSEI\",start=start_date,end=end_date)"
   ]
  },
  {
   "cell_type": "code",
   "execution_count": 18,
   "id": "71b08808",
   "metadata": {},
   "outputs": [],
   "source": [
    "nifty_v2.columns = nifty_v2.columns.get_level_values(0)\n",
    "nifty_v2.reset_index(inplace=True)\n",
    "nifty_v2.index.name = None"
   ]
  },
  {
   "cell_type": "code",
   "execution_count": 19,
   "id": "b523e762",
   "metadata": {},
   "outputs": [
    {
     "data": {
      "text/html": [
       "<div>\n",
       "<style scoped>\n",
       "    .dataframe tbody tr th:only-of-type {\n",
       "        vertical-align: middle;\n",
       "    }\n",
       "\n",
       "    .dataframe tbody tr th {\n",
       "        vertical-align: top;\n",
       "    }\n",
       "\n",
       "    .dataframe thead th {\n",
       "        text-align: right;\n",
       "    }\n",
       "</style>\n",
       "<table border=\"1\" class=\"dataframe\">\n",
       "  <thead>\n",
       "    <tr style=\"text-align: right;\">\n",
       "      <th>Price</th>\n",
       "      <th>Date</th>\n",
       "      <th>Close</th>\n",
       "      <th>High</th>\n",
       "      <th>Low</th>\n",
       "      <th>Open</th>\n",
       "      <th>Volume</th>\n",
       "    </tr>\n",
       "  </thead>\n",
       "  <tbody>\n",
       "    <tr>\n",
       "      <th>1180</th>\n",
       "      <td>2025-06-26</td>\n",
       "      <td>25549.000000</td>\n",
       "      <td>25565.300781</td>\n",
       "      <td>25259.900391</td>\n",
       "      <td>25268.949219</td>\n",
       "      <td>428900</td>\n",
       "    </tr>\n",
       "    <tr>\n",
       "      <th>1181</th>\n",
       "      <td>2025-06-27</td>\n",
       "      <td>25637.800781</td>\n",
       "      <td>25654.199219</td>\n",
       "      <td>25523.550781</td>\n",
       "      <td>25576.650391</td>\n",
       "      <td>564000</td>\n",
       "    </tr>\n",
       "    <tr>\n",
       "      <th>1182</th>\n",
       "      <td>2025-06-30</td>\n",
       "      <td>25517.050781</td>\n",
       "      <td>25669.349609</td>\n",
       "      <td>25473.300781</td>\n",
       "      <td>25661.650391</td>\n",
       "      <td>271000</td>\n",
       "    </tr>\n",
       "    <tr>\n",
       "      <th>1183</th>\n",
       "      <td>2025-07-01</td>\n",
       "      <td>25541.800781</td>\n",
       "      <td>25593.400391</td>\n",
       "      <td>25501.800781</td>\n",
       "      <td>25551.349609</td>\n",
       "      <td>260700</td>\n",
       "    </tr>\n",
       "    <tr>\n",
       "      <th>1184</th>\n",
       "      <td>2025-07-02</td>\n",
       "      <td>25453.400391</td>\n",
       "      <td>25608.099609</td>\n",
       "      <td>25378.750000</td>\n",
       "      <td>25588.300781</td>\n",
       "      <td>309800</td>\n",
       "    </tr>\n",
       "  </tbody>\n",
       "</table>\n",
       "</div>"
      ],
      "text/plain": [
       "Price       Date         Close          High           Low          Open  \\\n",
       "1180  2025-06-26  25549.000000  25565.300781  25259.900391  25268.949219   \n",
       "1181  2025-06-27  25637.800781  25654.199219  25523.550781  25576.650391   \n",
       "1182  2025-06-30  25517.050781  25669.349609  25473.300781  25661.650391   \n",
       "1183  2025-07-01  25541.800781  25593.400391  25501.800781  25551.349609   \n",
       "1184  2025-07-02  25453.400391  25608.099609  25378.750000  25588.300781   \n",
       "\n",
       "Price  Volume  \n",
       "1180   428900  \n",
       "1181   564000  \n",
       "1182   271000  \n",
       "1183   260700  \n",
       "1184   309800  "
      ]
     },
     "execution_count": 19,
     "metadata": {},
     "output_type": "execute_result"
    }
   ],
   "source": [
    "nifty_v2.tail()"
   ]
  },
  {
   "cell_type": "code",
   "execution_count": 21,
   "id": "a5f4c54d",
   "metadata": {},
   "outputs": [],
   "source": [
    "nifty_v2.to_csv(\"nifty_2020_2025.csv\",index=False)"
   ]
  },
  {
   "cell_type": "code",
   "execution_count": null,
   "id": "ae5fa617",
   "metadata": {},
   "outputs": [],
   "source": []
  }
 ],
 "metadata": {
  "kernelspec": {
   "display_name": "ipo_predictor",
   "language": "python",
   "name": "python3"
  },
  "language_info": {
   "codemirror_mode": {
    "name": "ipython",
    "version": 3
   },
   "file_extension": ".py",
   "mimetype": "text/x-python",
   "name": "python",
   "nbconvert_exporter": "python",
   "pygments_lexer": "ipython3",
   "version": "3.10.18"
  }
 },
 "nbformat": 4,
 "nbformat_minor": 5
}
